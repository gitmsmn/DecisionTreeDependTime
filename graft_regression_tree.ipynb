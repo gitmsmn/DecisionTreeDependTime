{
 "cells": [
  {
   "cell_type": "code",
   "execution_count": null,
   "id": "4bd538d0-d6f5-471f-9842-4e4f62d0aa86",
   "metadata": {},
   "outputs": [],
   "source": [
    "#----------------------------------------------------------------------\n",
    "# インポート\n",
    "#----------------------------------------------------------------------\n",
    "import numpy as np\n",
    "import pandas as pd\n",
    "import matplotlib.pyplot as plt\n",
    "\n",
    "#----------------------------------------------------------------------\n",
    "# クラス定義\n",
    "#----------------------------------------------------------------------\n",
    "class TimeDependentTree:\n",
    "    \"\"\"\n",
    "    時間依存木のクラス\n",
    "    \"\"\"\n",
    "\n",
    "    def __init__(self, x_test, y_test, tdtree):\n",
    "        \"\"\"\n",
    "        コンストラクタ\n",
    "\n",
    "        Args:\n",
    "          x_train：訓練データの説明変数\n",
    "          y_train：訓練データの目的変数\n",
    "          x_test：検証データの説明変数\n",
    "          y_test：検証データの目的変数\n",
    "          max_depth：木の最大の深さ\n",
    "        \"\"\"\n",
    "\n",
    "        # Public Member\n",
    "        self.x_test = x_test\n",
    "        self.y_test = y_test\n",
    "        self.tdtree = tdtree\n",
    "\n",
    "    #---------------------------------------\n",
    "    # クラス定数\n",
    "    #---------------------------------------\n",
    "\n",
    "\n",
    "    #---------------------------------------\n",
    "    # public関数\n",
    "    #---------------------------------------\n",
    "\n",
    "    def test(self):\n",
    "        \"\"\"\n",
    "        テスト用の関数\n",
    "        \n",
    "        \"\"\"\n",
    "        print(self.x_test[0])\n",
    "\n",
    "    #---------------------------------------\n",
    "    # private methods\n",
    "    #---------------------------------------\n",
    "    \n",
    "    def __test(self):\n",
    "    \n",
    "        print(self.y_test[0])"
   ]
  }
 ],
 "metadata": {
  "kernelspec": {
   "display_name": "Python 3 (ipykernel)",
   "language": "python",
   "name": "python3"
  },
  "language_info": {
   "codemirror_mode": {
    "name": "ipython",
    "version": 3
   },
   "file_extension": ".py",
   "mimetype": "text/x-python",
   "name": "python",
   "nbconvert_exporter": "python",
   "pygments_lexer": "ipython3",
   "version": "3.10.10"
  }
 },
 "nbformat": 4,
 "nbformat_minor": 5
}
