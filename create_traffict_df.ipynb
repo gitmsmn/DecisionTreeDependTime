{
 "cells": [
  {
   "cell_type": "code",
   "execution_count": 1,
   "id": "ff55461a-efd2-495e-80d9-4a29d51f6641",
   "metadata": {
    "tags": []
   },
   "outputs": [],
   "source": [
    "import pandas as pd\n",
    "import numpy as np\n",
    "import glob"
   ]
  },
  {
   "cell_type": "code",
   "execution_count": null,
   "id": "cca52f92-6835-469f-921b-89d0dbdbd237",
   "metadata": {},
   "outputs": [],
   "source": [
    "# 方針メモ\n",
    "\n",
    "## 計測地点名称から、ターゲットを一つに絞る\n",
    "## ターゲット地点のdfを作成する（時刻、断面交通量）\n",
    "## 時刻によるグループ化を施すことで、各データを作成する\n",
    "## csvファイルで出力する"
   ]
  },
  {
   "cell_type": "code",
   "execution_count": 3,
   "id": "1f17ea62-f005-4f94-9699-a6bfd469ba9a",
   "metadata": {
    "tags": []
   },
   "outputs": [],
   "source": [
    "# パス取得（ls）\n",
    "files = glob.glob(\"./csv/TrafficOfShizuoka/*\")\n",
    "\n",
    "# 抽出、結合のループ\n",
    "for i in range(len(files)):\n",
    "    if i == 0:\n",
    "        master_df = pd.read_csv(files[i], encoding = \"shift-jis\")\n",
    "        master_df = master_df[master_df['計測地点名称'] == '静岡市国吉田西']\n",
    "        master_df = master_df[['時刻', '断面交通量']]\n",
    "    else:\n",
    "        df = pd.read_csv(files[i], encoding = \"shift-jis\")\n",
    "        df = df[df['計測地点名称'] == '静岡市国吉田西']\n",
    "        df = df[['時刻', '断面交通量']]\n",
    "        master_df = pd.concat([master_df, df])"
   ]
  },
  {
   "cell_type": "code",
   "execution_count": 4,
   "id": "72d32729-39e3-4114-931c-cad41c40a009",
   "metadata": {
    "tags": []
   },
   "outputs": [
    {
     "data": {
      "text/html": [
       "<div>\n",
       "<style scoped>\n",
       "    .dataframe tbody tr th:only-of-type {\n",
       "        vertical-align: middle;\n",
       "    }\n",
       "\n",
       "    .dataframe tbody tr th {\n",
       "        vertical-align: top;\n",
       "    }\n",
       "\n",
       "    .dataframe thead th {\n",
       "        text-align: right;\n",
       "    }\n",
       "</style>\n",
       "<table border=\"1\" class=\"dataframe\">\n",
       "  <thead>\n",
       "    <tr style=\"text-align: right;\">\n",
       "      <th></th>\n",
       "      <th>時刻</th>\n",
       "      <th>断面交通量</th>\n",
       "    </tr>\n",
       "  </thead>\n",
       "  <tbody>\n",
       "    <tr>\n",
       "      <th>43</th>\n",
       "      <td>2017/1/1 0:00:00</td>\n",
       "      <td>13</td>\n",
       "    </tr>\n",
       "    <tr>\n",
       "      <th>782</th>\n",
       "      <td>2017/1/1 0:05:00</td>\n",
       "      <td>11</td>\n",
       "    </tr>\n",
       "    <tr>\n",
       "      <th>1504</th>\n",
       "      <td>2017/1/1 0:10:00</td>\n",
       "      <td>10</td>\n",
       "    </tr>\n",
       "    <tr>\n",
       "      <th>2223</th>\n",
       "      <td>2017/1/1 0:15:00</td>\n",
       "      <td>11</td>\n",
       "    </tr>\n",
       "    <tr>\n",
       "      <th>2948</th>\n",
       "      <td>2017/1/1 0:20:00</td>\n",
       "      <td>10</td>\n",
       "    </tr>\n",
       "    <tr>\n",
       "      <th>...</th>\n",
       "      <td>...</td>\n",
       "      <td>...</td>\n",
       "    </tr>\n",
       "    <tr>\n",
       "      <th>5049778</th>\n",
       "      <td>2018/12/31 23:35</td>\n",
       "      <td>9</td>\n",
       "    </tr>\n",
       "    <tr>\n",
       "      <th>5050342</th>\n",
       "      <td>2018/12/31 23:40</td>\n",
       "      <td>16</td>\n",
       "    </tr>\n",
       "    <tr>\n",
       "      <th>5050907</th>\n",
       "      <td>2018/12/31 23:45</td>\n",
       "      <td>12</td>\n",
       "    </tr>\n",
       "    <tr>\n",
       "      <th>5051470</th>\n",
       "      <td>2018/12/31 23:50</td>\n",
       "      <td>19</td>\n",
       "    </tr>\n",
       "    <tr>\n",
       "      <th>5052034</th>\n",
       "      <td>2018/12/31 23:55</td>\n",
       "      <td>6</td>\n",
       "    </tr>\n",
       "  </tbody>\n",
       "</table>\n",
       "<p>207381 rows × 2 columns</p>\n",
       "</div>"
      ],
      "text/plain": [
       "                       時刻  断面交通量\n",
       "43       2017/1/1 0:00:00     13\n",
       "782      2017/1/1 0:05:00     11\n",
       "1504     2017/1/1 0:10:00     10\n",
       "2223     2017/1/1 0:15:00     11\n",
       "2948     2017/1/1 0:20:00     10\n",
       "...                   ...    ...\n",
       "5049778  2018/12/31 23:35      9\n",
       "5050342  2018/12/31 23:40     16\n",
       "5050907  2018/12/31 23:45     12\n",
       "5051470  2018/12/31 23:50     19\n",
       "5052034  2018/12/31 23:55      6\n",
       "\n",
       "[207381 rows x 2 columns]"
      ]
     },
     "execution_count": 4,
     "metadata": {},
     "output_type": "execute_result"
    }
   ],
   "source": [
    "master_df"
   ]
  },
  {
   "cell_type": "code",
   "execution_count": 5,
   "id": "d42e6fcc-e726-4d68-bc58-89d4c20d31e9",
   "metadata": {
    "tags": []
   },
   "outputs": [],
   "source": [
    "master_df.to_csv('./csv/TrafficOfShizuoka/traffic_shizuokashi_kuniyoshida_nishi.csv')"
   ]
  },
  {
   "cell_type": "code",
   "execution_count": null,
   "id": "2f536b4b-83ad-4131-ad4e-23d900fb4e1e",
   "metadata": {},
   "outputs": [],
   "source": []
  }
 ],
 "metadata": {
  "kernelspec": {
   "display_name": "Python 3 (ipykernel)",
   "language": "python",
   "name": "python3"
  },
  "language_info": {
   "codemirror_mode": {
    "name": "ipython",
    "version": 3
   },
   "file_extension": ".py",
   "mimetype": "text/x-python",
   "name": "python",
   "nbconvert_exporter": "python",
   "pygments_lexer": "ipython3",
   "version": "3.10.10"
  }
 },
 "nbformat": 4,
 "nbformat_minor": 5
}
