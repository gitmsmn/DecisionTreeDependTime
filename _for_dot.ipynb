{
 "cells": [
  {
   "cell_type": "code",
   "execution_count": 5,
   "id": "fba771f2-fd43-4d40-9d31-97376fde3024",
   "metadata": {},
   "outputs": [],
   "source": [
    "f = open('test', 'w')\n",
    "\n",
    "datalist = ['digraph Tree {\\n', \n",
    "            'node [shape=box, style=\"filled\", color=\"black\"] ;\\n', \n",
    "            '}\\n']\n",
    "\n",
    "f.writelines(datalist)\n",
    "\n",
    "f.close()"
   ]
  },
  {
   "cell_type": "code",
   "execution_count": null,
   "id": "2141edbc-e7ea-4bbb-bed0-1c3f3c9b2c64",
   "metadata": {},
   "outputs": [],
   "source": []
  }
 ],
 "metadata": {
  "kernelspec": {
   "display_name": "Python 3 (ipykernel)",
   "language": "python",
   "name": "python3"
  },
  "language_info": {
   "codemirror_mode": {
    "name": "ipython",
    "version": 3
   },
   "file_extension": ".py",
   "mimetype": "text/x-python",
   "name": "python",
   "nbconvert_exporter": "python",
   "pygments_lexer": "ipython3",
   "version": "3.9.7"
  }
 },
 "nbformat": 4,
 "nbformat_minor": 5
}
